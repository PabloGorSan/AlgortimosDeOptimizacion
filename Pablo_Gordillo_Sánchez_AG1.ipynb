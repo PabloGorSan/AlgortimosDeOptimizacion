{
  "nbformat": 4,
  "nbformat_minor": 0,
  "metadata": {
    "colab": {
      "provenance": [],
      "authorship_tag": "ABX9TyPm690/PJfkdWYo+wA/mqf4",
      "include_colab_link": true
    },
    "kernelspec": {
      "name": "python3",
      "display_name": "Python 3"
    },
    "language_info": {
      "name": "python"
    }
  },
  "cells": [
    {
      "cell_type": "markdown",
      "metadata": {
        "id": "view-in-github",
        "colab_type": "text"
      },
      "source": [
        "<a href=\"https://colab.research.google.com/github/PabloGorSan/AlgortimosDeOptimizacion/blob/main/Pablo_Gordillo_S%C3%A1nchez_AG1.ipynb\" target=\"_parent\"><img src=\"https://colab.research.google.com/assets/colab-badge.svg\" alt=\"Open In Colab\"/></a>"
      ]
    },
    {
      "cell_type": "markdown",
      "source": [
        "Actividad Guiada 1 de Algoritmos de Optimizacion\n",
        "\n",
        "Nombre: Pablo Gordillo Sánchez\n",
        "\n",
        "https://colab.research.google.com/drive/12bUBBp8QjRLLG-eH0dy_DNx4vPXWtJTk?usp=sharing\n",
        "\n",
        "https://github.com/mi_usuario/03MAIR---Algoritmos-de-Optimizacion"
      ],
      "metadata": {
        "id": "Va6l4c3xuVel"
      }
    },
    {
      "cell_type": "code",
      "execution_count": null,
      "metadata": {
        "id": "XD0lNagcuGwj"
      },
      "outputs": [],
      "source": []
    }
  ]
}