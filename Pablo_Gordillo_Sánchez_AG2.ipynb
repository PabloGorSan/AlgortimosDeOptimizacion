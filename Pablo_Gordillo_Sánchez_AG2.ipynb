{
  "nbformat": 4,
  "nbformat_minor": 0,
  "metadata": {
    "colab": {
      "provenance": [],
      "authorship_tag": "ABX9TyP6c+cN7tmLckke8XHWqk84",
      "include_colab_link": true
    },
    "kernelspec": {
      "name": "python3",
      "display_name": "Python 3"
    },
    "language_info": {
      "name": "python"
    }
  },
  "cells": [
    {
      "cell_type": "markdown",
      "metadata": {
        "id": "view-in-github",
        "colab_type": "text"
      },
      "source": [
        "<a href=\"https://colab.research.google.com/github/PabloGorSan/AlgortimosDeOptimizacion/blob/main/Pablo_Gordillo_S%C3%A1nchez_AG2.ipynb\" target=\"_parent\"><img src=\"https://colab.research.google.com/assets/colab-badge.svg\" alt=\"Open In Colab\"/></a>"
      ]
    },
    {
      "cell_type": "markdown",
      "source": [
        "#AG2 - Actividad Guiada 2\n",
        "Nombre: Pablo Gordillo Sánchez <br>\n",
        "Link:   https://colab.research.google.com/drive/1p6zweBJ-ni-ntEHa8IkqNTvd-5-nsyzC?usp=sharing <br>\n",
        "Github: https://github.com/xxxxx/AlgoritmosOptimizacion\n",
        "<br>"
      ],
      "metadata": {
        "id": "dYHr0n7hTaKF"
      }
    }
  ]
}