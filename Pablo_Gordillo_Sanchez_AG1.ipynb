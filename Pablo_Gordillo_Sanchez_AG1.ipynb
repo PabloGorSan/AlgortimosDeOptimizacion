{
  "nbformat": 4,
  "nbformat_minor": 0,
  "metadata": {
    "colab": {
      "provenance": [],
      "authorship_tag": "ABX9TyOD8cObgh+a8u4/FbE670jV",
      "include_colab_link": true
    },
    "kernelspec": {
      "name": "python3",
      "display_name": "Python 3"
    },
    "language_info": {
      "name": "python"
    }
  },
  "cells": [
    {
      "cell_type": "markdown",
      "metadata": {
        "id": "view-in-github",
        "colab_type": "text"
      },
      "source": [
        "<a href=\"https://colab.research.google.com/github/PabloGorSan/AlgortimosDeOptimizacion/blob/main/Pablo_Gordillo_Sanchez_AG1.ipynb\" target=\"_parent\"><img src=\"https://colab.research.google.com/assets/colab-badge.svg\" alt=\"Open In Colab\"/></a>"
      ]
    },
    {
      "cell_type": "markdown",
      "source": [
        "Actividad Guiada 1 de Algoritmos de Optimizacion\n",
        "\n",
        "Nombre: Pablo Gordillo Sánchez\n",
        "\n",
        "Colab: https://colab.research.google.com/drive/12bUBBp8QjRLLG-eH0dy_DNx4vPXWtJTk?usp=sharing\n",
        "\n",
        "GitHub: https://github.com/PabloGorSan/AlgortimosDeOptimizacion/blob/main/Pablo_Gordillo_Sanchez_AG1.ipynb"
      ],
      "metadata": {
        "id": "Va6l4c3xuVel"
      }
    },
    {
      "cell_type": "code",
      "execution_count": null,
      "metadata": {
        "colab": {
          "base_uri": "https://localhost:8080/"
        },
        "id": "XD0lNagcuGwj",
        "outputId": "0a5c33a4-8b1d-4b3b-986b-b4f1d8fff909"
      },
      "outputs": [
        {
          "output_type": "stream",
          "name": "stdout",
          "text": [
            "Lleva la ficha desde 1 hasta 3\n",
            "Lleva la ficha desde 1 hasta 2\n",
            "Lleva la ficha desde 3 hasta 2\n",
            "Lleva la ficha desde 1 hasta 3\n",
            "Lleva la ficha desde 2 hasta 1\n",
            "Lleva la ficha desde 2 hasta 3\n",
            "Lleva la ficha desde 1 hasta 3\n"
          ]
        }
      ],
      "source": [
        "#Torres de Hanoi - Divide y venceras\n",
        "################################################################################\n",
        "\n",
        "\n",
        "################################################################\n",
        "def Torres_Hanoi(N, desde, hasta):\n",
        "  #N - Nº de fichas\n",
        "  #desde - torre inicial\n",
        "  #hasta - torre fina\n",
        "  if N==1 :\n",
        "    print(\"Lleva la ficha desde \" + str(desde) + \" hasta \" + str(hasta))\n",
        "\n",
        "  else:\n",
        "    Torres_Hanoi(N-1, desde, 6-desde-hasta)\n",
        "    print(\"Lleva la ficha desde \" + str(desde) + \" hasta \" + str(hasta))\n",
        "    Torres_Hanoi(N-1, 6-desde-hasta,  hasta)\n",
        "\n",
        "Torres_Hanoi(3, 1, 3)\n",
        "################################################################"
      ]
    },
    {
      "cell_type": "code",
      "source": [
        "#Cambio de monedas - Técnica voraz\n",
        "################################################################################\n",
        "SISTEMA = [12, 5 ,2, 1  ]\n",
        "################################################################\n",
        "def cambio_monedas(CANTIDAD,SISTEMA):\n",
        "#....\n",
        "  SOLUCION = [0]*len(SISTEMA)\n",
        "  ValorAcumulado = 0\n",
        "\n",
        "  for i,valor in enumerate(SISTEMA):\n",
        "    monedas = (CANTIDAD-ValorAcumulado)//valor\n",
        "    SOLUCION[i] = monedas\n",
        "    ValorAcumulado = ValorAcumulado + monedas*valor\n",
        "\n",
        "    if CANTIDAD == ValorAcumulado:\n",
        "      return SOLUCION\n",
        "\n",
        "  print(\"No es posible encontrar solucion\") \n",
        "cambio_monedas(15,SISTEMA)\n",
        "\n",
        "    \n",
        "################################################################"
      ],
      "metadata": {
        "colab": {
          "base_uri": "https://localhost:8080/"
        },
        "id": "Mo1CD_Fd1Ytb",
        "outputId": "11478b3c-74e1-41cc-bfd0-c226f1073aaf"
      },
      "execution_count": null,
      "outputs": [
        {
          "output_type": "execute_result",
          "data": {
            "text/plain": [
              "[1, 0, 1, 1]"
            ]
          },
          "metadata": {},
          "execution_count": 10
        }
      ]
    },
    {
      "cell_type": "code",
      "source": [
        "#N Reinas - Vuelta Atrás()\n",
        "################################################################################\n",
        "\n",
        "#Verifica que en la solución parcial no hay amenzas entre reinas\n",
        "################################################################\n",
        "def es_prometedora(SOLUCION,etapa):\n",
        "################################################################\n",
        "  #print(SOLUCION)\n",
        "  #Si la solución tiene dos valores iguales no es valida => Dos reinas en la misma fila\n",
        "  for i in range(etapa+1):\n",
        "    #print(\"El valor \" + str(SOLUCION[i]) + \" está \" +  str(SOLUCION.count(SOLUCION[i])) + \" veces\")\n",
        "    if SOLUCION.count(SOLUCION[i]) > 1:       \n",
        "      return False\n",
        "  \n",
        "    #Verifica las diagonales\n",
        "    for j in range(i+1, etapa +1 ):\n",
        "      #print(\"Comprobando diagonal de \" + str(i) + \" y \" + str(j))\n",
        "      if abs(i-j) == abs(SOLUCION[i]-SOLUCION[j]) : return False\n",
        "  return True\n",
        "\n",
        "#Traduce la solución al tablero\n",
        "################################################################\n",
        "def escribe_solucion(S):\n",
        "################################################################\n",
        "  n = len(S)\n",
        "  for x in range(n):\n",
        "    print(\"\")\n",
        "    for i in range(n):\n",
        "      if S[i] == x+1:\n",
        "        print(\" X \" , end=\"\")\n",
        "      else:\n",
        "        print(\" - \", end=\"\")\n",
        "\n",
        "\n",
        "\n",
        "#Proceso principal de N-Reinas\n",
        "################################################################\n",
        "def reinas(N, solucion=[],etapa=0): \n",
        "################################################################\n",
        "### ....\n",
        "  if len(solucion) == 0:         # [0,0,0...]\n",
        "    solucion = [0 for i in range(N) ]\n",
        "  \n",
        "  for i in range(1, N+1):\n",
        "    solucion[etapa] = i\n",
        "    if es_prometedora(solucion, etapa):\n",
        "      if etapa == N-1:\n",
        "        print(solucion)\n",
        "      else:  \n",
        "        reinas(N, solucion, etapa+1)\n",
        "    else:\n",
        "      None\n",
        "  \n",
        "  solucion[etapa] = 0\n",
        "\n",
        "reinas(8,solucion=[],etapa=0)"
      ],
      "metadata": {
        "colab": {
          "base_uri": "https://localhost:8080/"
        },
        "id": "pYccbiwK1Z8g",
        "outputId": "4e2f31ae-f053-4ff9-bc9e-42f2aa330ece"
      },
      "execution_count": null,
      "outputs": [
        {
          "output_type": "stream",
          "name": "stdout",
          "text": [
            "[1, 5, 8, 6, 3, 7, 2, 4]\n",
            "[1, 6, 8, 3, 7, 4, 2, 5]\n",
            "[1, 7, 4, 6, 8, 2, 5, 3]\n",
            "[1, 7, 5, 8, 2, 4, 6, 3]\n",
            "[2, 4, 6, 8, 3, 1, 7, 5]\n",
            "[2, 5, 7, 1, 3, 8, 6, 4]\n",
            "[2, 5, 7, 4, 1, 8, 6, 3]\n",
            "[2, 6, 1, 7, 4, 8, 3, 5]\n",
            "[2, 6, 8, 3, 1, 4, 7, 5]\n",
            "[2, 7, 3, 6, 8, 5, 1, 4]\n",
            "[2, 7, 5, 8, 1, 4, 6, 3]\n",
            "[2, 8, 6, 1, 3, 5, 7, 4]\n",
            "[3, 1, 7, 5, 8, 2, 4, 6]\n",
            "[3, 5, 2, 8, 1, 7, 4, 6]\n",
            "[3, 5, 2, 8, 6, 4, 7, 1]\n",
            "[3, 5, 7, 1, 4, 2, 8, 6]\n",
            "[3, 5, 8, 4, 1, 7, 2, 6]\n",
            "[3, 6, 2, 5, 8, 1, 7, 4]\n",
            "[3, 6, 2, 7, 1, 4, 8, 5]\n",
            "[3, 6, 2, 7, 5, 1, 8, 4]\n",
            "[3, 6, 4, 1, 8, 5, 7, 2]\n",
            "[3, 6, 4, 2, 8, 5, 7, 1]\n",
            "[3, 6, 8, 1, 4, 7, 5, 2]\n",
            "[3, 6, 8, 1, 5, 7, 2, 4]\n",
            "[3, 6, 8, 2, 4, 1, 7, 5]\n",
            "[3, 7, 2, 8, 5, 1, 4, 6]\n",
            "[3, 7, 2, 8, 6, 4, 1, 5]\n",
            "[3, 8, 4, 7, 1, 6, 2, 5]\n",
            "[4, 1, 5, 8, 2, 7, 3, 6]\n",
            "[4, 1, 5, 8, 6, 3, 7, 2]\n",
            "[4, 2, 5, 8, 6, 1, 3, 7]\n",
            "[4, 2, 7, 3, 6, 8, 1, 5]\n",
            "[4, 2, 7, 3, 6, 8, 5, 1]\n",
            "[4, 2, 7, 5, 1, 8, 6, 3]\n",
            "[4, 2, 8, 5, 7, 1, 3, 6]\n",
            "[4, 2, 8, 6, 1, 3, 5, 7]\n",
            "[4, 6, 1, 5, 2, 8, 3, 7]\n",
            "[4, 6, 8, 2, 7, 1, 3, 5]\n",
            "[4, 6, 8, 3, 1, 7, 5, 2]\n",
            "[4, 7, 1, 8, 5, 2, 6, 3]\n",
            "[4, 7, 3, 8, 2, 5, 1, 6]\n",
            "[4, 7, 5, 2, 6, 1, 3, 8]\n",
            "[4, 7, 5, 3, 1, 6, 8, 2]\n",
            "[4, 8, 1, 3, 6, 2, 7, 5]\n",
            "[4, 8, 1, 5, 7, 2, 6, 3]\n",
            "[4, 8, 5, 3, 1, 7, 2, 6]\n",
            "[5, 1, 4, 6, 8, 2, 7, 3]\n",
            "[5, 1, 8, 4, 2, 7, 3, 6]\n",
            "[5, 1, 8, 6, 3, 7, 2, 4]\n",
            "[5, 2, 4, 6, 8, 3, 1, 7]\n",
            "[5, 2, 4, 7, 3, 8, 6, 1]\n",
            "[5, 2, 6, 1, 7, 4, 8, 3]\n",
            "[5, 2, 8, 1, 4, 7, 3, 6]\n",
            "[5, 3, 1, 6, 8, 2, 4, 7]\n",
            "[5, 3, 1, 7, 2, 8, 6, 4]\n",
            "[5, 3, 8, 4, 7, 1, 6, 2]\n",
            "[5, 7, 1, 3, 8, 6, 4, 2]\n",
            "[5, 7, 1, 4, 2, 8, 6, 3]\n",
            "[5, 7, 2, 4, 8, 1, 3, 6]\n",
            "[5, 7, 2, 6, 3, 1, 4, 8]\n",
            "[5, 7, 2, 6, 3, 1, 8, 4]\n",
            "[5, 7, 4, 1, 3, 8, 6, 2]\n",
            "[5, 8, 4, 1, 3, 6, 2, 7]\n",
            "[5, 8, 4, 1, 7, 2, 6, 3]\n",
            "[6, 1, 5, 2, 8, 3, 7, 4]\n",
            "[6, 2, 7, 1, 3, 5, 8, 4]\n",
            "[6, 2, 7, 1, 4, 8, 5, 3]\n",
            "[6, 3, 1, 7, 5, 8, 2, 4]\n",
            "[6, 3, 1, 8, 4, 2, 7, 5]\n",
            "[6, 3, 1, 8, 5, 2, 4, 7]\n",
            "[6, 3, 5, 7, 1, 4, 2, 8]\n",
            "[6, 3, 5, 8, 1, 4, 2, 7]\n",
            "[6, 3, 7, 2, 4, 8, 1, 5]\n",
            "[6, 3, 7, 2, 8, 5, 1, 4]\n",
            "[6, 3, 7, 4, 1, 8, 2, 5]\n",
            "[6, 4, 1, 5, 8, 2, 7, 3]\n",
            "[6, 4, 2, 8, 5, 7, 1, 3]\n",
            "[6, 4, 7, 1, 3, 5, 2, 8]\n",
            "[6, 4, 7, 1, 8, 2, 5, 3]\n",
            "[6, 8, 2, 4, 1, 7, 5, 3]\n",
            "[7, 1, 3, 8, 6, 4, 2, 5]\n",
            "[7, 2, 4, 1, 8, 5, 3, 6]\n",
            "[7, 2, 6, 3, 1, 4, 8, 5]\n",
            "[7, 3, 1, 6, 8, 5, 2, 4]\n",
            "[7, 3, 8, 2, 5, 1, 6, 4]\n",
            "[7, 4, 2, 5, 8, 1, 3, 6]\n",
            "[7, 4, 2, 8, 6, 1, 3, 5]\n",
            "[7, 5, 3, 1, 6, 8, 2, 4]\n",
            "[8, 2, 4, 1, 7, 5, 3, 6]\n",
            "[8, 2, 5, 3, 1, 7, 4, 6]\n",
            "[8, 3, 1, 6, 2, 5, 7, 4]\n",
            "[8, 4, 1, 3, 6, 2, 7, 5]\n"
          ]
        }
      ]
    },
    {
      "cell_type": "code",
      "source": [
        "escribe_solucion([1, 5, 8, 6, 3, 7, 2, 4])"
      ],
      "metadata": {
        "colab": {
          "base_uri": "https://localhost:8080/"
        },
        "id": "ILNrhoDE1e-j",
        "outputId": "53aa87a3-55c9-4c26-d959-299bac499d1e"
      },
      "execution_count": null,
      "outputs": [
        {
          "output_type": "stream",
          "name": "stdout",
          "text": [
            "\n",
            " X  -  -  -  -  -  -  - \n",
            " -  -  -  -  -  -  X  - \n",
            " -  -  -  -  X  -  -  - \n",
            " -  -  -  -  -  -  -  X \n",
            " -  X  -  -  -  -  -  - \n",
            " -  -  -  X  -  -  -  - \n",
            " -  -  -  -  -  X  -  - \n",
            " -  -  X  -  -  -  -  - "
          ]
        }
      ]
    },
    {
      "cell_type": "code",
      "source": [
        "#Viaje por el rio - Programación dinámica\n",
        "################################################################################\n",
        "\n",
        "TARIFAS = [\n",
        "[0,5,4,3,999,999,999],\n",
        "[999,0,999,2,3,999,11],\n",
        "[999,999, 0,1,999,4,10],\n",
        "[999,999,999, 0,5,6,9],\n",
        "[999,999, 999,999,0,999,4],\n",
        "[999,999, 999,999,999,0,3],\n",
        "[999,999,999,999,999,999,0]\n",
        "]\n",
        "\n",
        "#999 se puede sustituir por float(\"inf\")\n",
        "\n",
        "\n",
        "#Calculo de la matriz de PRECIOS y RUTAS\n",
        "################################################################  \n",
        "def Precios(TARIFAS):\n",
        "################################################################  \n",
        "  #Total de Nodos\n",
        "  N = len(TARIFAS[0])\n",
        "  \n",
        "  #Inicialización de la tabla de precios\n",
        "  PRECIOS = [ [9999]*N for i in [9999]*N]\n",
        "  RUTA = [ [\"\"]*N for i in [\"\"]*N]\n",
        "  \n",
        "  for i in range(0,N-1):\n",
        "    RUTA[i][i] = i             #Para ir de i a i se \"pasa por i\"\n",
        "    PRECIOS[i][i] = 0          #Para ir de i a i se se paga 0\n",
        "    for j in range(i+1, N):\n",
        "      MIN = TARIFAS[i][j]\n",
        "      RUTA[i][j] = i         \n",
        "      \n",
        "      for k in range(i, j):\n",
        "        if PRECIOS[i][k] + TARIFAS[k][j] < MIN:\n",
        "            MIN = min(MIN, PRECIOS[i][k] + TARIFAS[k][j] )\n",
        "            RUTA[i][j] = k          #Anota que para ir de i a j hay que pasar por k\n",
        "        PRECIOS[i][j] = MIN\n",
        "        \n",
        "  return PRECIOS,RUTA\n",
        "################################################################  \n",
        "\n",
        "PRECIOS,RUTA = Precios(TARIFAS)  \n",
        "#print(PRECIOS[0][6])\n",
        "\n",
        "print(\"PRECIOS\")\n",
        "for i in range(len(TARIFAS)):\n",
        "  print(PRECIOS[i])\n",
        "\n",
        "print(\"\\nRUTA\")  \n",
        "for i in range(len(TARIFAS)):\n",
        "  print(RUTA[i])  \n",
        "  \n",
        "#Determinar la ruta con Recursividad\n",
        "def calcular_ruta(RUTA, desde, hasta):\n",
        "  if desde == hasta:\n",
        "    #print(\"Ir a :\" + str(desde))\n",
        "    return \"\" \n",
        "  else:\n",
        "    return str(calcular_ruta( RUTA, desde, RUTA[desde][hasta])) +  \\\n",
        "                ',' + \\\n",
        "                str(RUTA[desde][hasta] \\\n",
        "              ) \n",
        "\n",
        "print(\"\\nLa ruta es:\")  \n",
        "calcular_ruta(RUTA, 0,6)  "
      ],
      "metadata": {
        "colab": {
          "base_uri": "https://localhost:8080/",
          "height": 365
        },
        "id": "jol9d-t81f3J",
        "outputId": "777044cc-f75f-4ce4-f1f2-0ff0053f38ca"
      },
      "execution_count": null,
      "outputs": [
        {
          "output_type": "stream",
          "name": "stdout",
          "text": [
            "PRECIOS\n",
            "[0, 5, 4, 3, 8, 8, 11]\n",
            "[9999, 0, 999, 2, 3, 8, 7]\n",
            "[9999, 9999, 0, 1, 6, 4, 7]\n",
            "[9999, 9999, 9999, 0, 5, 6, 9]\n",
            "[9999, 9999, 9999, 9999, 0, 999, 4]\n",
            "[9999, 9999, 9999, 9999, 9999, 0, 3]\n",
            "[9999, 9999, 9999, 9999, 9999, 9999, 9999]\n",
            "\n",
            "RUTA\n",
            "[0, 0, 0, 0, 1, 2, 5]\n",
            "['', 1, 1, 1, 1, 3, 4]\n",
            "['', '', 2, 2, 3, 2, 5]\n",
            "['', '', '', 3, 3, 3, 3]\n",
            "['', '', '', '', 4, 4, 4]\n",
            "['', '', '', '', '', 5, 5]\n",
            "['', '', '', '', '', '', '']\n",
            "\n",
            "La ruta es:\n"
          ]
        },
        {
          "output_type": "execute_result",
          "data": {
            "text/plain": [
              "',0,2,5'"
            ],
            "application/vnd.google.colaboratory.intrinsic+json": {
              "type": "string"
            }
          },
          "metadata": {},
          "execution_count": 13
        }
      ]
    },
    {
      "cell_type": "code",
      "source": [
        "import random\n",
        "\n",
        "LISTA_1D = [random.randrange(1,10000) for x in range(1000)]"
      ],
      "metadata": {
        "id": "oyqvuQry9AzX"
      },
      "execution_count": 34,
      "outputs": []
    },
    {
      "cell_type": "code",
      "source": [
        "# Fuerza bruta: Calcular la diferencia entre todos los puntos y almacenar la menor\n",
        "def distanciaFuerzaBruta(LISTA_1D):\n",
        "  contador = 0\n",
        "  menorDistancia = float(\"inf\")\n",
        "  for i in range(len(LISTA_1D)):\n",
        "    for j in range(i+1, len(LISTA_1D)):\n",
        "      contador += 1\n",
        "      distancia = abs(LISTA_1D[i] - LISTA_1D[j])\n",
        "      if distancia < menorDistancia:\n",
        "        punto1 = LISTA_1D[i]\n",
        "        punto2 = LISTA_1D[j]\n",
        "        menorDistancia = distancia\n",
        "  print(f\"La menor distancia es entre los puntos {punto1} y {punto2}, siendo esta {menorDistancia} y resuelto con {contador} operaciones.\")\n",
        "\n",
        "distanciaFuerzaBruta(LISTA_1D)"
      ],
      "metadata": {
        "colab": {
          "base_uri": "https://localhost:8080/"
        },
        "id": "bWXUXl0H_fnL",
        "outputId": "4122af86-2b3b-4b72-8512-70912052ac85"
      },
      "execution_count": 35,
      "outputs": [
        {
          "output_type": "stream",
          "name": "stdout",
          "text": [
            "La menor distancia es entre los puntos 4968 y 4968, siendo esta 0 y resuelto con 499500 operaciones.\n"
          ]
        }
      ]
    },
    {
      "cell_type": "markdown",
      "source": [
        "La complejidad de este algortitmo es (N^2)/2, ya que podemos ver que se necesitan comparar cada par de números entre ellos sin que importe el órden, ya que la distancia es un valor absoluto."
      ],
      "metadata": {
        "id": "xNHiDMaq_syU"
      }
    },
    {
      "cell_type": "code",
      "source": [
        "# Divide y vencerás: Dividimos la lista de elementos en dos mitades y buscamos\n",
        "# la menor distancia en cada mitad. Luego comparamos combinaciones de puntos\n",
        "# en ambas mitades que estén a una distancia del centro menor que la menor distancia\n",
        "# encontrada. Necesitamos ordenar el conjunto de puntos.\n",
        "\n",
        "def ditanciaDivideYVenceras(LISTA_1D, contador):\n",
        "\n",
        "  if(len(LISTA_1D) > 1):\n",
        "    # Dividimos la lista ordenada en dos mitades    \n",
        "    LISTA_IZQ = LISTA_1D[0:int(len(LISTA_1D)/2)]\n",
        "    LISTA_DER = LISTA_1D[int(len(LISTA_1D)/2):len(LISTA_1D)]\n",
        "\n",
        "    # LLamamos al algortimo de manera recursiva para cada una de las mitades\n",
        "    minIzq, punto1izq, punto2izq, contador = ditanciaDivideYVenceras(LISTA_IZQ, contador)\n",
        "    minDer, punto1der, punto2der, contador = ditanciaDivideYVenceras(LISTA_DER, contador)\n",
        "\n",
        "    # Almacenamos la mejor solución obtenida entre cada mitad\n",
        "    if minIzq <= minDer:\n",
        "      menorDistancia = minIzq\n",
        "      punto1 = punto1izq\n",
        "      punto2 = punto2izq\n",
        "    else:\n",
        "      menorDistancia = minDer\n",
        "      punto1 = punto1der\n",
        "      punto2 = punto2der\n",
        "\n",
        "    # Obtenemos los dos puntos más cercanos entre si entre ambas mitades. Como\n",
        "    # son listas ordenadas se tratan del último y primer punto de cada mitad respectivamente\n",
        "    pizq = LISTA_IZQ[len(LISTA_IZQ)-1]\n",
        "    pder = LISTA_DER[0]\n",
        "\n",
        "    dist = abs(pizq - pder)\n",
        "    contador += 1\n",
        "    if dist < menorDistancia:\n",
        "        menorDistancia = dist\n",
        "        punto1 = pizq\n",
        "        punto2 = pder\n",
        "\n",
        "    # Devolvemos la menor ditancia obtenida, los puntos y el contador de operaciones realizadas\n",
        "    return menorDistancia, punto1, punto2, contador\n",
        "  else:\n",
        "    # Si solo hay un elemento en la lista\n",
        "    return float(\"inf\"), -1, -1, contador\n",
        "\n",
        "LISTA_1D.sort()\n",
        "contador = 0\n",
        "menorDistancia, punto1, punto2, contador = ditanciaDivideYVenceras(LISTA_1D, contador)\n",
        "\n",
        "print(f\"La menor distancia es entre los puntos {punto1} y {punto2}, siendo esta {menorDistancia} y resuelto con {contador} operaciones.\")"
      ],
      "metadata": {
        "colab": {
          "base_uri": "https://localhost:8080/"
        },
        "id": "MBQ6he8zBhI8",
        "outputId": "31df6776-951e-46db-fbe0-cd4705103ec9"
      },
      "execution_count": 36,
      "outputs": [
        {
          "output_type": "stream",
          "name": "stdout",
          "text": [
            "La menor distancia es entre los puntos 96 y 96, siendo esta 0 y resuelto con 999 operaciones.\n"
          ]
        }
      ]
    },
    {
      "cell_type": "markdown",
      "source": [
        "Vemos que ordenar la lista de puntos nos ayuda a resolver el problema mediante divide y vencerás. Esta ordenación tiene una complejidad de O(N*log(N)) y solo se debe realizar una vez. Tras esto, se divide la lista de puntos en dos mitades iguales y se llema recursivamente a la función con cada mitad, obteniendo así los dos puntos de cada mitad que se encuentran más cerca entre si. Una vez tenemos esto, obtenemos los dos puntos más cercanos al valor central de la lista, uno de la mitad izquierda y otro de la mitad derecha. Se calcula si su distancia es menor que la mínima calculada en las mitades y, si es así se sustituye como los puntos más cercanos entre si.\n",
        "\n",
        "Por tanto, podemos ver que la técnica de divide y vencerás para puntos de 1 dimensión obtiene una complejidad de O(N*log(N)), ya que todas las operaciones realizadas son constantes menos las llamadas recursivas, que cada vez se realiza con la mitad del conjunto de puntos, y la ordenación citada que solo se realiza una vez."
      ],
      "metadata": {
        "id": "kGllJM8zYPD0"
      }
    },
    {
      "cell_type": "code",
      "source": [
        "import random\n",
        "\n",
        "LISTA_2D = [(random.randrange(1,10000),random.randrange(1,10000)) for x in range(1000)]"
      ],
      "metadata": {
        "id": "v9YvxqfWb89f"
      },
      "execution_count": 37,
      "outputs": []
    },
    {
      "cell_type": "code",
      "source": [
        "from IPython.core.magics.execution import math\n",
        "from IPython.core.display import Math\n",
        "def ditanciaDivideYVenceras(LISTA_2D, contador):\n",
        "\n",
        "  if(len(LISTA_2D) > 1):\n",
        "    # Dividimos la lista ordenada en dos mitades    \n",
        "    LISTA_IZQ = LISTA_2D[0:int(len(LISTA_2D)/2)]\n",
        "    LISTA_DER = LISTA_2D[int(len(LISTA_2D)/2):len(LISTA_2D)]\n",
        "\n",
        "    # LLamamos al algortimo de manera recursiva para cada una de las mitades\n",
        "    minIzq, punto1izq, punto2izq, contador = ditanciaDivideYVenceras(LISTA_IZQ, contador)\n",
        "    minDer, punto1der, punto2der, contador = ditanciaDivideYVenceras(LISTA_DER, contador)\n",
        "\n",
        "    # Almacenamos la mejor solución obtenida entre cada mitad\n",
        "    if minIzq <= minDer:\n",
        "      menorDistancia = minIzq\n",
        "      punto1 = punto1izq\n",
        "      punto2 = punto2izq\n",
        "    else:\n",
        "      menorDistancia = minDer\n",
        "      punto1 = punto1der\n",
        "      punto2 = punto2der\n",
        "\n",
        "    # Calculamos el valor medio de la lista\n",
        "    puntoMedio = (LISTA_IZQ[len(LISTA_IZQ)-1][0] + LISTA_DER[0][0]) / 2\n",
        "\n",
        "    # Seleccionamos los puntos que están a una distancia menor de menorDistancia\n",
        "    # del valor central\n",
        "    LISTA_MENOR_DIST = [x for x in LISTA_2D if abs(x[0] - puntoMedio) <= menorDistancia]\n",
        "\n",
        "    # Ordenamos la lista según el valor y\n",
        "    LISTA_MENOR_DIST.sort(key = lambda tup: tup[1])\n",
        "\n",
        "    # Obtenemos la menor distancia entre puntos, sabiendo que solo nos hace falta\n",
        "    # realizar 7 comparaciones por cada punto, ya que a partir de ahí\n",
        "    # no pueden tener una distancia menor\n",
        "    for i in range(len(LISTA_MENOR_DIST)):\n",
        "      j = 1\n",
        "      while j < 8 and j+i < len(LISTA_MENOR_DIST):        \n",
        "        dist = distancia2Puntos(LISTA_MENOR_DIST[i],LISTA_MENOR_DIST[i+j])\n",
        "        contador += 1\n",
        "        if dist < menorDistancia:\n",
        "          menorDistancia = dist\n",
        "          punto1 = LISTA_MENOR_DIST[i]\n",
        "          punto2 = LISTA_MENOR_DIST[j]\n",
        "        j += 1\n",
        "\n",
        "    # Devolvemos la menor ditancia obtenida, los puntos y el contador de operaciones realizadas\n",
        "    return menorDistancia, punto1, punto2, contador\n",
        "  else:\n",
        "    # Si solo hay un elemento en la lista\n",
        "    return float(\"inf\"), -1, -1, contador\n",
        "\n",
        "def distancia2Puntos(punto1, punto2):\n",
        "  x = (punto1[0] - punto2[0])**2\n",
        "  y = (punto1[1] - punto2[1])**2\n",
        "  return math.sqrt(x + y)\n",
        "\n",
        "\n",
        "LISTA_2D.sort(key=lambda tup: tup[0])\n",
        "\n",
        "contador = 0\n",
        "menorDistancia, punto1, punto2, contador = ditanciaDivideYVenceras(LISTA_2D, contador)\n",
        "\n",
        "print(f\"La menor distancia es entre los puntos {punto1} y {punto2}, siendo esta {menorDistancia} y resuelto con {contador} operaciones.\")"
      ],
      "metadata": {
        "colab": {
          "base_uri": "https://localhost:8080/"
        },
        "id": "IN8-fHDYcNl_",
        "outputId": "2da8fb60-2897-4ee4-9670-9db9d11ea228"
      },
      "execution_count": 38,
      "outputs": [
        {
          "output_type": "stream",
          "name": "stdout",
          "text": [
            "La menor distancia es entre los puntos (4720, 9446) y (4716, 9452), siendo esta 7.211102550927978 y resuelto con 10197 operaciones.\n"
          ]
        }
      ]
    },
    {
      "cell_type": "markdown",
      "source": [
        "Si imaginamos los puntos con los que estábamos trabajando, en el primer apartado teníamos todos los puntos ordenador en una línea, por lo que necesitábamos un punto medio para realizar la separación. Ahora, ya que contamos con puntos en un plano (2 dimensiones) para realizar la separación necesitaremos utilizar una línea. En este caso he utilizado una línea que mantiene constante el valor x (suponiendo que los puntos son pares x y).\n",
        "\n",
        "El detalle más importante a apreciar recae en qué puntos debemos comparar para encontrar la distancia mínima entre puntos de ambas mitades. Para 1 dimensión vemos intuitivamente que solo hace falta comparar dos puntos entre si, los más cercanos al valor central, ya que cualquier otro estaría a una distancia mayor.\n",
        "\n",
        "Para dos dimensiones es muy conveniente, una vez tenemos la distancia mínima de ambas mitades, obtener los puntos que se encuentren a una distancia al valor central menor a la mínima distancia de las mitades. Además, deberemos ordenar esta lista de puntos en función de su valor y. Por inducción, podemos demostrar que solo hace falta comparar cada punto con otros 7 puntos de esta nueva lista, ya que un octavo necesariamente estaría más lejos de la distancia mínima. Esto hace que la comparación entre ambas mitades tenga una complejidad de O(N*log(N)), ya que necesitamos realizar una ordenación por su valor y.\n",
        "\n",
        "Esto nos lleva a que la complejidad de este algoritmo para puntos de 2 dimensiones es O(N*log^2(N)). Sin embargo, si tras realizar una vez el cálculo de la ordenación por su valor y, este lo propagásemos, volveríamos a tener un algoritmo de O(N*log(N))."
      ],
      "metadata": {
        "id": "mnve_Y1KfVhI"
      }
    },
    {
      "cell_type": "code",
      "source": [
        "import random\n",
        "\n",
        "LISTA_3D = [(random.randrange(1,10000),random.randrange(1,10000),random.randrange(1,10000)) for x in range(1000)]"
      ],
      "metadata": {
        "id": "Hlg5a22Nhpc1"
      },
      "execution_count": 39,
      "outputs": []
    },
    {
      "cell_type": "code",
      "source": [
        "from IPython.core.magics.execution import math\n",
        "from IPython.core.display import Math\n",
        "def ditanciaDivideYVenceras(LISTA_3D, contador):\n",
        "\n",
        "  if(len(LISTA_3D) > 1):\n",
        "    # Dividimos la lista ordenada en dos mitades    \n",
        "    LISTA_IZQ = LISTA_3D[0:int(len(LISTA_3D)/2)]\n",
        "    LISTA_DER = LISTA_3D[int(len(LISTA_3D)/2):len(LISTA_3D)]\n",
        "\n",
        "    # LLamamos al algortimo de manera recursiva para cada una de las mitades\n",
        "    minIzq, punto1izq, punto2izq, contador = ditanciaDivideYVenceras(LISTA_IZQ, contador)\n",
        "    minDer, punto1der, punto2der, contador = ditanciaDivideYVenceras(LISTA_DER, contador)\n",
        "\n",
        "    # Almacenamos la mejor solución obtenida entre cada mitad\n",
        "    if minIzq <= minDer:\n",
        "      menorDistancia = minIzq\n",
        "      punto1 = punto1izq\n",
        "      punto2 = punto2izq\n",
        "    else:\n",
        "      menorDistancia = minDer\n",
        "      punto1 = punto1der\n",
        "      punto2 = punto2der\n",
        "\n",
        "    # Calculamos el valor medio de la lista\n",
        "    puntoMedio = (LISTA_IZQ[len(LISTA_IZQ)-1][0] + LISTA_DER[0][0]) / 2\n",
        "\n",
        "    # Seleccionamos los puntos que están a una distancia menor de menorDistancia\n",
        "    # del valor central\n",
        "    LISTA_MENOR_DIST = [x for x in LISTA_3D if abs(x[0] - puntoMedio) <= menorDistancia]\n",
        "\n",
        "    # Ordenamos la lista según el valor y\n",
        "    LISTA_MENOR_DIST.sort(key = lambda tup: tup[1])\n",
        "\n",
        "    # Obtenemos la menor distancia entre puntos, sabiendo que solo nos hace falta\n",
        "    # realizar 7 comparaciones por cada punto, ya que a partir de ahí\n",
        "    # no pueden tener una distancia menor\n",
        "    for i in range(len(LISTA_MENOR_DIST)):\n",
        "      j = 1\n",
        "      while j < 15 and j+i < len(LISTA_MENOR_DIST):        \n",
        "        dist = distancia2Puntos(LISTA_MENOR_DIST[i],LISTA_MENOR_DIST[i+j])\n",
        "        contador += 1\n",
        "        if dist < menorDistancia:\n",
        "          menorDistancia = dist\n",
        "          punto1 = LISTA_MENOR_DIST[i]\n",
        "          punto2 = LISTA_MENOR_DIST[j]\n",
        "        j += 1\n",
        "\n",
        "    # Devolvemos la menor ditancia obtenida, los puntos y el contador de operaciones realizadas\n",
        "    return menorDistancia, punto1, punto2, contador\n",
        "  else:\n",
        "    # Si solo hay un elemento en la lista\n",
        "    return float(\"inf\"), -1, -1, contador\n",
        "\n",
        "def distancia2Puntos(punto1, punto2):\n",
        "  dist = 0\n",
        "  for i in range(len(punto1)):\n",
        "    dist += (punto1[i] - punto2[i])**2\n",
        "  return dist ** (1/len(punto1))\n",
        "\n",
        "\n",
        "LISTA_3D.sort(key=lambda tup: tup[0])\n",
        "\n",
        "contador = 0\n",
        "menorDistancia, punto1, punto2, contador = ditanciaDivideYVenceras(LISTA_3D, contador)\n",
        "\n",
        "print(f\"La menor distancia es entre los puntos {punto1} y {punto2}, siendo esta {menorDistancia} y resuelto con {contador} operaciones.\")"
      ],
      "metadata": {
        "colab": {
          "base_uri": "https://localhost:8080/"
        },
        "id": "QY8YvDsJhvFS",
        "outputId": "df13cccc-e1a2-4da1-d8e3-0a91fba3c0db"
      },
      "execution_count": 42,
      "outputs": [
        {
          "output_type": "stream",
          "name": "stdout",
          "text": [
            "La menor distancia es entre los puntos (4943, 7471, 8333) y (4961, 2620, 7080), siendo esta 17.060911823803522 y resuelto con 12548 operaciones.\n"
          ]
        }
      ]
    },
    {
      "cell_type": "markdown",
      "source": [
        "Siguiendo con el razonamiento realizado en el apartado anterior ahora necesitaríamos un plano para dividir la nube de puntos en 2 mitades. Por ello seguimos manteniendo las dos mitades separadas por su valor en el eje x. Lo único que cambia del algoritmo es la necesidad de aumentar el número de comparaciones que se realizan de puntos entre los dos espacios separados por el plano, ya que al tener 3 dimensiones \"caben\" más puntos en el cubo de arista \"menorDistancia\". Vemos por tanto que algortimo se vuelve menos eficiente cuantas más dimensiones añadimos a los puntos. Esto se debe a que intrínsecamente los puntos no mantienen un órden tan claro como en dimensiones menores, por lo que las ordenaciones no son tan eficaces para resolver el problema. "
      ],
      "metadata": {
        "id": "XZTEnVHETNO0"
      }
    }
  ]
}