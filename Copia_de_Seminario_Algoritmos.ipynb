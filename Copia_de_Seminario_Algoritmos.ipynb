{
  "nbformat": 4,
  "nbformat_minor": 0,
  "metadata": {
    "colab": {
      "provenance": [],
      "include_colab_link": true
    },
    "kernelspec": {
      "name": "python3",
      "display_name": "Python 3"
    }
  },
  "cells": [
    {
      "cell_type": "markdown",
      "metadata": {
        "id": "view-in-github",
        "colab_type": "text"
      },
      "source": [
        "<a href=\"https://colab.research.google.com/github/PabloGorSan/AlgortimosDeOptimizacion/blob/main/Copia_de_Seminario_Algoritmos.ipynb\" target=\"_parent\"><img src=\"https://colab.research.google.com/assets/colab-badge.svg\" alt=\"Open In Colab\"/></a>"
      ]
    },
    {
      "cell_type": "markdown",
      "metadata": {
        "id": "hVbXYX-RfPWh"
      },
      "source": [
        "# Algoritmos de optimización - Seminario<br>\n",
        "Nombre y Apellidos: Pablo Gordillo Sánchez   <br>\n",
        "Url: https://github.com/PabloGorSan/AlgortimosDeOptimizacion/blob/main/Copia_de_Seminario_Algoritmos.ipynb<br>\n",
        "Problema:\n",
        "\n",
        "Combinar cifras y operaciones\n",
        "\n",
        "Descripción del problema:(copiar enunciado)\n",
        "\n",
        "- El problema consiste en analizar el siguiente problema y diseñar un algoritmo que lo resuelva.\n",
        "- Disponemos de las 9 cifras del 1 al 9 (excluimos el cero) y de los 4 signos básicos de las\n",
        "operaciones fundamentales: suma(+), resta(-), multiplicación(*) y división(/)\n",
        "- Debemos combinarlos alternativamente sin repetir ninguno de ellos para obtener una cantidad\n",
        "dada. Un ejemplo sería para obtener el 4:\n",
        "4+2-6/3*1 = 4\n",
        "- Debe analizarse el problema para encontrar todos los valores enteros posibles planteando las siguientes cuestiones:\n",
        " - ¿Qué valor máximo y mínimo se pueden obtener según las condiciones del problema?\n",
        " - ¿Es posible encontrar todos los valores enteros posibles entre dicho mínimo y máximo?\n",
        "                                        "
      ]
    },
    {
      "cell_type": "code",
      "metadata": {
        "id": "AiskKkzZfy4e"
      },
      "source": [
        "import bisect\n",
        "import random"
      ],
      "execution_count": 159,
      "outputs": []
    },
    {
      "cell_type": "markdown",
      "metadata": {
        "id": "3_-exlrTgLd-"
      },
      "source": [
        "(*)¿Cuantas posibilidades hay sin tener en cuenta las restricciones?<br>\n",
        "\n",
        "\n",
        "\n",
        "\n",
        "\n"
      ]
    },
    {
      "cell_type": "markdown",
      "metadata": {
        "id": "WfCUqJyKhPcw"
      },
      "source": [
        "Para este problema debemos definir previamente qué significa que no tenga restricciones, ya que podemos entenderlo de distinta manera y obtener una cantidad de posibilidades diversas. Las restricciones que plantea el problema son:\n",
        "- Debemos combinar números y operaciones alternativamente\n",
        "- Sin repetir ninguno de ellos.\n",
        "\n",
        "Empezando por la segunda restricción, si esta no se cumpliera, el espacio de búsqueda para este problema sería infinito, ya que podríamos siempre seguir creando nuevas posibilidades añadiendo una nueva cifra o una nueva operación según corresponda. Por tanto, no vamos a tomarlo tanto como una restricción sino como una característica de nuestro problema (igual que utilizar las cifras y las operaciones básicas).\n",
        "\n",
        "La primera restricción es más interesante. Anular esta restricción nos sigue limitando el espacio de búsqueda, aunque añade combinaciones no validas (como 2*/3). Teniendo en cuenta las no validas, las posibilidades totales serían igual a 13!, ya que sería una permutación sin repetición de 13 signos (9 dígitos y 4 operaciones)."
      ]
    },
    {
      "cell_type": "markdown",
      "source": [
        "\n",
        "¿Cuantas posibilidades hay teniendo en cuenta todas las restricciones?\n",
        "\n",
        "Al igual que hemos deducido el número de posibilidades en el apartado anterior, podemos aplicar el mismo razonamiento para obtener el total de posibilidades teniendo en cuenta las restricciones.\n",
        "En un comienzo debemos elegir una de entre 9 cifras para probar, luego una entre 4 operaciones, una entre 8 cifras, una entre 3 operaciones... hasta quedarnos sin operaciones, por lo que ya solo podremos añadir una cifra más. Por tanto el número de posibilidades es 9 * 4 * 8 * 3 * 7 * 6 * 2 * 5 * 1 = 9! = 362880."
      ],
      "metadata": {
        "id": "_Pb0l7I3K4ni"
      }
    },
    {
      "cell_type": "markdown",
      "metadata": {
        "id": "dzynfVJahHoY"
      },
      "source": [
        "Modelo para el espacio de soluciones<br>\n",
        "(*) ¿Cual es la estructura de datos que mejor se adapta al problema? Argumentalo.(Es posible que hayas elegido una al principio y veas la necesidad de cambiar, arguentalo)\n"
      ]
    },
    {
      "cell_type": "markdown",
      "metadata": {
        "id": "xFIJrOwKi2Ti"
      },
      "source": [
        "Cada solución está formada por una cadena de 9 caracteres, que se evalúa a un valor. Estas cadenas se van a explorar en forma de árbol, ya que plantearemos la construcción de estas soluciones como una \"elección\" del carácter a añadir en cada momento. Tal y como se pide en el enunciado, la solución final deberá estar constituida por una lista de valores enteros evaluados de estas cadenas. A poder ser, se obtendrá la lista de valores ordenada, ya que permitirá obtener el mínimo y el máximo de manera sencilla, además de realizar la comprobación de que se han obtenido todos los valores intermedios."
      ]
    },
    {
      "cell_type": "markdown",
      "metadata": {
        "id": "7Z9U2W7bi-XS"
      },
      "source": [
        "Según el modelo para el espacio de soluciones<br>\n",
        "(*)¿Cual es la función objetivo?\n",
        "\n",
        "(*)¿Es un problema de maximización o minimización?"
      ]
    },
    {
      "cell_type": "markdown",
      "metadata": {
        "id": "hBalWLM7j1_d"
      },
      "source": [
        "En este problema no se busca optimizar un valor, como sí podría ser en un problema de asignación o de búsqueda del camino más corto, sino realizar una búsqueda de los caminos válidos en un árbol. Por tanto, esta función objetivo se podría definir como \"Diferencia entre valores enteros encontrados y los esperados\", siendo cada elemento faltante o sobrante sumado. Si se planteara así, para lo cual se deberían conocer previamente los valores esperados, el problema se trataría de un problema de minimización, donde se buscaría reducir el número de discrepancias entre ambos conjuntos. Esto puede ser interesante en algoritmos donde se sacrifique la exploración completa del árbol a cambio de eficiencia, ya que podrían saltarse soluciones válidas."
      ]
    },
    {
      "cell_type": "markdown",
      "metadata": {
        "id": "rlnTYgY1j6I2"
      },
      "source": [
        "Diseña un algoritmo para resolver el problema por fuerza bruta"
      ]
    },
    {
      "cell_type": "markdown",
      "metadata": {
        "id": "70rDgxYXkC8r"
      },
      "source": [
        "El algoritmo de fuerza bruta es bastante simple al implementarse aplicando recursividad. Este algoritmo tomará una cifra de la lista de cifras de entrada. Si hay operaciones de entrada, el algoritmo tomará una operación, los añadirá a la cadena a evaluar y se llamará recursivamente con quitando ambos elementos de sus respectivas listas. Este proceso se repite hasta que no queden operaciones, en cuyo caso se evaluarán todas las cadenas posibles añadiendo la última cifra. Tras cada evaluación, la cual conlleva que se haya explorado un nodo hoja, se comprobará si la solución es entera. De ser así se añadirá ordenadamente a la lista de soluciones. De no ser entera se descartará.\n",
        "\n",
        "Tras esto, se iterará sobre las soluciones para comprobar que todos los valores intermedios han sido encontrados."
      ]
    },
    {
      "cell_type": "code",
      "metadata": {
        "id": "CJb5sQ0qkENy"
      },
      "source": [
        "cifras = [str(x) for x in range(1, 10)]\n",
        "operaciones = ['+', '-', '*', '/']\n",
        "\n",
        "def fuerzaBrutaRestricciones(cifras, operaciones, cadena):\n",
        "  valores = {\n",
        "      'posibilidades' : 0,          #Nodos hoja explorados\n",
        "      'max' : -9999999,             #Valor máximo calculado\n",
        "      'min' : 9999999,              #Valor mínimo calculado\n",
        "      'valores enteros' : [],       #Valores enteros calculados\n",
        "      'valores intermedios' : True  #Todos los valores intermedios han sido encontrados\n",
        "  }\n",
        "  calcularValoresEnteros(cifras, operaciones, \"\", valores) \n",
        "  return encontrarValoresIntermedios(valores) \n",
        "\n",
        "def calcularValoresEnteros(cifras, operaciones, cadena, valores): #Obtiene todos los valores enteros\n",
        "  for c in cifras:\n",
        "    if len(operaciones) == 0: #Si no quedan operaciones que añadir a la cadena se prueban todas las cifras restantes\n",
        "      valor = eval(cadena + c)\n",
        "      valores['posibilidades'] += 1\n",
        "      if valor.is_integer():\n",
        "        if valor not in valores['valores enteros']:\n",
        "          bisect.insort(valores['valores enteros'], valor) #Inserción ordenada en lista ordenada O(N)\n",
        "        if valor > valores['max'] : valores['max'] = valor\n",
        "        if valor < valores['min'] : valores['min'] = valor\n",
        "    else:  \n",
        "      for o in operaciones: #Si quedan más operaciones se añaden\n",
        "        cifrasMenos1 = cifras.copy()\n",
        "        cifrasMenos1.remove(c)\n",
        "        operacionesMenos1 = operaciones.copy()\n",
        "        operacionesMenos1.remove(o)\n",
        "        calcularValoresEnteros(cifrasMenos1, operacionesMenos1, cadena + c + o, valores) #LLamada recursiva eliminando la cifra y la operación seleccionadas\n",
        "\n",
        "def encontrarValoresIntermedios(valores): #Comprueba que todos los valores intermedios han sido encontrados\n",
        "    i = 0\n",
        "    while i < len(valores['valores enteros'])-1 and valores['valores intermedios']:\n",
        "      if abs(valores['valores enteros'][i] - valores['valores enteros'][i]+1) != 1: valores['valores intermedios'] = False #Comprueba que todos los valores están a una unidad de distancia\n",
        "      else: i += 1\n",
        "\n",
        "    return valores\n",
        "\n",
        "valores = fuerzaBrutaRestricciones(cifras, operaciones, \"\")"
      ],
      "execution_count": 131,
      "outputs": []
    },
    {
      "cell_type": "code",
      "source": [
        "for v in valores.keys():\n",
        "  print(v + \" \" + str(valores[v]));"
      ],
      "metadata": {
        "colab": {
          "base_uri": "https://localhost:8080/"
        },
        "id": "zKIeP7IjZVoA",
        "outputId": "7bdef6ea-7fe0-45a2-e8cb-9c106774ff0a"
      },
      "execution_count": 81,
      "outputs": [
        {
          "output_type": "stream",
          "name": "stdout",
          "text": [
            "posibilidades 362880\n",
            "max 77.0\n",
            "min -69.0\n",
            "valores enteros [-69.0, -68.0, -67.0, -66.0, -65.0, -64.0, -63.0, -62.0, -61.0, -60.0, -59.0, -58.0, -57.0, -56.0, -55.0, -54.0, -53.0, -52.0, -51.0, -50.0, -49.0, -48.0, -47.0, -46.0, -45.0, -44.0, -43.0, -42.0, -41.0, -40.0, -39.0, -38.0, -37.0, -36.0, -35.0, -34.0, -33.0, -32.0, -31.0, -30.0, -29.0, -28.0, -27.0, -26.0, -25.0, -24.0, -23.0, -22.0, -21.0, -20.0, -19.0, -18.0, -17.0, -16.0, -15.0, -14.0, -13.0, -12.0, -11.0, -10.0, -9.0, -8.0, -7.0, -6.0, -5.0, -4.0, -3.0, -2.0, -1.0, 0.0, 1.0, 2.0, 3.0, 4.0, 5.0, 6.0, 7.0, 8.0, 9.0, 10.0, 11.0, 12.0, 13.0, 14.0, 15.0, 16.0, 17.0, 18.0, 19.0, 20.0, 21.0, 22.0, 23.0, 24.0, 25.0, 26.0, 27.0, 28.0, 29.0, 30.0, 31.0, 32.0, 33.0, 34.0, 35.0, 36.0, 37.0, 38.0, 39.0, 40.0, 41.0, 42.0, 43.0, 44.0, 45.0, 46.0, 47.0, 48.0, 49.0, 50.0, 51.0, 52.0, 53.0, 54.0, 55.0, 56.0, 57.0, 58.0, 59.0, 60.0, 61.0, 62.0, 63.0, 64.0, 65.0, 66.0, 67.0, 68.0, 69.0, 70.0, 71.0, 72.0, 73.0, 74.0, 75.0, 76.0, 77.0]\n",
            "valores intermedios True\n"
          ]
        }
      ]
    },
    {
      "cell_type": "markdown",
      "metadata": {
        "id": "tgrnsC2nkFa8"
      },
      "source": [
        "Calcula la complejidad del algoritmo por fuerza bruta"
      ]
    },
    {
      "cell_type": "markdown",
      "metadata": {
        "id": "9eUd3xwckP68"
      },
      "source": [
        "En este algoritmo vamos a considerar como operación unitaria la evaluación de una cadena, es decir, los nodos hoja que se han explorado en el árbol que forman las variaciones de estos elementos. Ya que se trata de un algoritmo iterativo y recursivo, podemos calcular la complejidad de la siguiente forma:\n",
        "\n",
        "Siendo C el tamaño de la lista de cifras y siendo O el tamaño de la lista de operaciones, con C > O el número de operaciones realizadas sería:\n",
        "\n",
        "- C , O = 0\n",
        "- C * O * T((C-1), (O-1)) * ... * T((C-O), 0) , O > 0\n",
        "\n",
        "Por tanto, podemos simplificar esta operación como:\n",
        "\n",
        "- C * O * (C-1) * (O-1) * ... * C = (C! * O!) / (C-O-1)!\n",
        "\n",
        "En el peor caso, donde C = O + 1 ya que siempre debe haber un digito almenos más que operaciones, la complejidad sería O(C!*(C-1)!). Es decir, tiene complejidad factorial, por lo que no es un algoritmo viable para su uso con valores altos."
      ]
    },
    {
      "cell_type": "markdown",
      "metadata": {
        "id": "txbrmLmskReM"
      },
      "source": [
        "(*)Diseña un algoritmo que mejore la complejidad del algortimo por fuerza bruta. Argumenta por qué crees que mejora el algoritmo por fuerza bruta"
      ]
    },
    {
      "cell_type": "markdown",
      "metadata": {
        "id": "hLrVwt5QkZPD"
      },
      "source": [
        "Podemos imaginar el espacio de búsqueda de este problema como un grafo que se va ampliando en forma de árbol, pero con posibilidad de que aparezcan nodos compartidos entre sus ramas. Esto ocurre por la existencia de distintas operaciones matemáticas que tienen el mismo resultado (2+3 = 6-1). Por ello, podemos plantear este problema como un problema resoluble mediante Ramificación y Poda del grafo, ya que podemos intentar recordar los nodos comunes ya visitados para no tener que volver a explorarlos. Para ello, cada vez que añadamos una cifra a la cadena, añadiremos una clave a un diccionario con la evaluacion de la cadena actual y las cifras que van a explorarse; y como valor las operaciones que a explorar. Así, si se vuelve a un valor que ya se había calculado, junto con unas cifras y operaciones ya calculadas, podremos omitir esa búsqueda."
      ]
    },
    {
      "cell_type": "code",
      "source": [
        "cifras = [str(x) for x in range(1, 10)]\n",
        "operaciones = ['+', '-', '*', '/']\n",
        "\n",
        "def programacionDinamicaRestricciones(cifras, operaciones, cadena):\n",
        "  valores = {\n",
        "    'posibilidades' : 0,\n",
        "    'max' : -9999999,\n",
        "    'min' : 9999999,\n",
        "    'valores enteros' : [],\n",
        "    'valores intermedios' : True\n",
        "  }\n",
        "  visitados = {} #Inicializamos el diccionario\n",
        "  calcularValoresEnterosPD(cifras, operaciones, \"\", valores, visitados)\n",
        "  return encontrarValoresIntermedios(valores), visitados\n",
        "\n",
        "def calcularValoresEnterosPD(cifras, operaciones, cadena, valores, visitados):\n",
        "  for c in cifras:\n",
        "    valor = eval(cadena + c);\n",
        "    if len(operaciones) == 0: #Si no quedan operaciones que añadir a la cadena se prueban todas las cifras restantes\n",
        "      valores['posibilidades'] += 1\n",
        "      if float(valor).is_integer():\n",
        "        if valor not in valores['valores enteros']:\n",
        "          bisect.insort(valores['valores enteros'], valor)\n",
        "        if valor > valores['max'] : valores['max'] = valor\n",
        "        if valor < valores['min'] : valores['min'] = valor\n",
        "    else: #Si quedan operaciones se comprueba en el diccionario si la tripleta valor, cifras, operaciones ya ha sido explorada\n",
        "      if (str(valor) + \", \" + str(cifras)) in visitados.keys() and str(operaciones) in visitados[str(valor) + \", \" + str(cifras)]:\n",
        "        return #Si se encuentra termina esta exploración\n",
        "      else: #Si no se encuentra se añade el par valor, cifras al diccionario y se continua normalmente\n",
        "        visitados[str(valor) + \", \" + str(cifras)] = []\n",
        "        for o in operaciones:\n",
        "          cifrasMenos1 = cifras.copy()\n",
        "          cifrasMenos1.remove(c)\n",
        "          operacionesMenos1 = operaciones.copy()\n",
        "          operacionesMenos1.remove(o)\n",
        "          calcularValoresEnterosPD(cifrasMenos1, operacionesMenos1, cadena + c + o, valores, visitados)\n",
        "        visitados[str(valor) + \", \" + str(cifras)].append(str(operaciones)) #Cuando se evaluen todas las permutaciones se añade al diccionario\n",
        "    \n",
        "\n",
        "valores, visitados = programacionDinamicaRestricciones(cifras, operaciones, \"\")\n"
      ],
      "metadata": {
        "id": "JljhZQPYE96A"
      },
      "execution_count": 177,
      "outputs": []
    },
    {
      "cell_type": "code",
      "source": [
        "for v in valores.keys():\n",
        "  print(v + \" \" + str(valores[v]));"
      ],
      "metadata": {
        "colab": {
          "base_uri": "https://localhost:8080/"
        },
        "id": "fK9d_aBaRlJR",
        "outputId": "217b2d4f-0b4e-4897-9e29-108409eae004"
      },
      "execution_count": 158,
      "outputs": [
        {
          "output_type": "stream",
          "name": "stdout",
          "text": [
            "posibilidades 122365\n",
            "max 77.0\n",
            "min -69.0\n",
            "valores enteros [-69.0, -68.0, -67.0, -66.0, -65.0, -64.0, -63.0, -62.0, -61.0, -60.0, -59.0, -58.0, -57.0, -56.0, -55.0, -54.0, -53.0, -52.0, -51.0, -50.0, -49.0, -48.0, -47.0, -46.0, -45.0, -44.0, -43.0, -42.0, -41.0, -40.0, -39.0, -38.0, -37.0, -36.0, -35.0, -34.0, -33.0, -32.0, -31.0, -30.0, -29.0, -28.0, -27.0, -26.0, -25.0, -24.0, -23.0, -22.0, -21.0, -20.0, -19.0, -18.0, -17.0, -16.0, -15.0, -14.0, -13.0, -12.0, -11.0, -10.0, -9.0, -8.0, -7.0, -6.0, -5.0, -4.0, -3.0, -2.0, -1.0, 0.0, 1.0, 2.0, 3.0, 4.0, 5.0, 6.0, 7.0, 8.0, 9.0, 10.0, 11.0, 12.0, 13.0, 14.0, 15.0, 16.0, 17.0, 18.0, 19.0, 20.0, 21.0, 22.0, 23.0, 24.0, 25.0, 26.0, 27.0, 28.0, 29.0, 30.0, 31.0, 32.0, 33.0, 34.0, 35.0, 36.0, 37.0, 38.0, 39.0, 40.0, 41.0, 42.0, 43.0, 44.0, 45.0, 46.0, 47.0, 48.0, 49.0, 50.0, 51.0, 52.0, 53.0, 54.0, 55.0, 56.0, 57.0, 58.0, 59.0, 60.0, 61.0, 62.0, 63.0, 64.0, 65.0, 66.0, 67.0, 68.0, 69.0, 70.0, 71.0, 72.0, 73.0, 74.0, 75.0, 76.0, 77.0]\n",
            "valores intermedios True\n"
          ]
        }
      ]
    },
    {
      "cell_type": "code",
      "source": [
        "len(visitados)"
      ],
      "metadata": {
        "colab": {
          "base_uri": "https://localhost:8080/"
        },
        "id": "ryq-XNy0kh-S",
        "outputId": "defdfee1-93f6-4ae4-b6f2-ead578a50b02"
      },
      "execution_count": 156,
      "outputs": [
        {
          "output_type": "execute_result",
          "data": {
            "text/plain": [
              "25284"
            ]
          },
          "metadata": {},
          "execution_count": 156
        }
      ]
    },
    {
      "cell_type": "markdown",
      "metadata": {
        "id": "eGDB4K6uk1iN"
      },
      "source": [
        "(*)Calcula la complejidad del algoritmo "
      ]
    },
    {
      "cell_type": "markdown",
      "metadata": {
        "id": "NhpTh_BPk1ms"
      },
      "source": [
        "La complejidad de este algoritmo a nivel computacional no ha descendido. De base, se siguen debiendo explorar todos los nodos si no se repitiesen nunca valores calculados en las cadenas. Sin embargo, la poda nos permite no tener que explorar gran parte del árbol. Viendo los datos obtenidos tras la ejecución, los nodos hoja explorado han sido 122365, un 33.72% de los nodos explorados mediante fuerza bruta.\n",
        "\n",
        "Sin embargo hay que destacar que, al añadirse el diccionario es necesario realizar búsquedas en la misma durante la ejecución, además de que este ocupa un espacio en memoria que pueda llegar a ser considerable."
      ]
    },
    {
      "cell_type": "markdown",
      "metadata": {
        "id": "3M6QjTsSkmYe"
      },
      "source": [
        "Según el problema (y tenga sentido), diseña un juego de datos de entrada aleatorios"
      ]
    },
    {
      "cell_type": "markdown",
      "metadata": {
        "id": "Jc3_OlyNkvjZ"
      },
      "source": [
        "Tanto el número de cifras de entrada como las operaciones pueden añadirse de manera aleatoria. Hay que tener en cuenta, eso sí, que si se quieren añadir nuevas operaciones éstas pueden que no sean correctas en todos los casos (como una raíz cuadrada de un número negativo)."
      ]
    },
    {
      "cell_type": "code",
      "metadata": {
        "id": "sJ-N2etjkyWc",
        "colab": {
          "base_uri": "https://localhost:8080/"
        },
        "outputId": "d7394606-4634-4b23-8f18-75a4001bac57"
      },
      "source": [
        "cifras = [str(x) for x in range(1, 20)] #Añadimos cifras del 1 al 19\n",
        "operaciones = ['+', '-', '*', '/','%'] #Añadimos la potencia y el resto de una división\n",
        "\n",
        "cifrasRandom = random.sample(cifras, 10) #Añadimos un número distinto de cifras, pueden ser más de 9 si contamos el 10 como una sola cifra\n",
        "operacionesRandom = random.sample(operaciones, 4) #Utilizamos cualquier combinación de 4 operaciones. Se recomienda probar con 5 (aprox 15 segundos de ejecución).\n",
        "print(cifrasRandom)\n",
        "print(operacionesRandom)"
      ],
      "execution_count": 211,
      "outputs": [
        {
          "output_type": "stream",
          "name": "stdout",
          "text": [
            "['5', '18', '4', '6', '19', '13', '10', '8', '14', '3']\n",
            "['%', '-', '/', '+']\n"
          ]
        }
      ]
    },
    {
      "cell_type": "markdown",
      "metadata": {
        "id": "zy5ZROmjlGo1"
      },
      "source": [
        "Aplica el algoritmo al juego de datos generado"
      ]
    },
    {
      "cell_type": "code",
      "metadata": {
        "id": "Jkx8GeiYlUz1"
      },
      "source": [
        "valores, visitados = programacionDinamicaRestricciones(cifrasRandom, operacionesRandom, \"\")"
      ],
      "execution_count": 212,
      "outputs": []
    },
    {
      "cell_type": "code",
      "source": [
        "for v in valores.keys():\n",
        "  print(v + \" \" + str(valores[v]));"
      ],
      "metadata": {
        "colab": {
          "base_uri": "https://localhost:8080/"
        },
        "id": "kvBZcuKRzuJa",
        "outputId": "1e082612-b488-4478-ef6d-12d0da2be801"
      },
      "execution_count": 213,
      "outputs": [
        {
          "output_type": "stream",
          "name": "stdout",
          "text": [
            "posibilidades 196506\n",
            "max 37.0\n",
            "min -17.0\n",
            "valores enteros [-17.0, -16.0, -15.0, -14.0, -13.0, -12.0, -11.0, -10.0, -9.0, -8.0, -7.0, -6.0, -5.0, -4.0, -3.0, -2.0, -1.0, 0.0, 1.0, 2.0, 3.0, 4.0, 5.0, 6.0, 7.0, 8.0, 9.0, 10.0, 11.0, 12.0, 13.0, 14.0, 15.0, 16.0, 17.0, 18.0, 19.0, 20.0, 21.0, 22.0, 23.0, 24.0, 25.0, 26.0, 27.0, 28.0, 29.0, 30.0, 31.0, 32.0, 33.0, 35.0, 36.0, 37.0]\n",
            "valores intermedios True\n"
          ]
        }
      ]
    },
    {
      "cell_type": "code",
      "source": [
        "len(visitados)"
      ],
      "metadata": {
        "colab": {
          "base_uri": "https://localhost:8080/"
        },
        "id": "9eeIxdKn2FoN",
        "outputId": "07a0d662-0da1-4e9a-f151-d1e24ac24c12"
      },
      "execution_count": 210,
      "outputs": [
        {
          "output_type": "execute_result",
          "data": {
            "text/plain": [
              "163844"
            ]
          },
          "metadata": {},
          "execution_count": 210
        }
      ]
    },
    {
      "cell_type": "markdown",
      "source": [
        "Haciendo pruebas con el código y los datos aleatorios podemos ver cosas muy interesantes y que ya se han ido preveyendo en anteriores apartados. Aumentar el número de operaciones es más costoso que aumentar el número de cifras, ya que al añadir una nueva operación se permiten elegir dos elementos más en la cadena. Sin embargo permite seguir realizando la poda de manera eficiente, mitigando el número de nodos a explorar.\n",
        "\n",
        "También podemos comprobar que añadir valores en un mayor rango (como de 1 a 20) hace que haya más repeticiones que almacenar en nuestro diccionario, por lo que la eficiencia de nuestro algoritmo varía en función de los propios valores de entrada."
      ],
      "metadata": {
        "id": "YkwggWoM3H9w"
      }
    },
    {
      "cell_type": "markdown",
      "metadata": {
        "id": "eTFWUJQrtGcv"
      },
      "source": [
        "Enumera las referencias que has utilizado(si ha sido necesario) para llevar a cabo el trabajo"
      ]
    },
    {
      "cell_type": "markdown",
      "metadata": {
        "id": "YKQ_mRBttWsP"
      },
      "source": [
        "Principalmente he utilizado los apuntes de nuestra asignatura, más allá de consultas puntuales sobre el lenguaje Python. "
      ]
    },
    {
      "cell_type": "markdown",
      "metadata": {
        "id": "kAkDPUyRtYyH"
      },
      "source": [
        "Describe brevemente las lineas de como crees que es posible avanzar en el estudio del problema. Ten en cuenta incluso posibles variaciones del problema y/o variaciones al alza del tamaño"
      ]
    },
    {
      "cell_type": "markdown",
      "metadata": {
        "id": "IE0uZmo-tZu-"
      },
      "source": [
        "Este problema tiene un espacio de búsqueda muy alto, por lo que es necesario encontrar algoritmos que realicen esta búsqueda de valores de manera eficiente. El algoritmo de ramificación y poda permite mitigar el crecimiento del espacio de búsqueda como hemos podido ver, pero sigue teniendo una complejidad muy alta. Podríamos seguir aplicando este tipo de podas (por ejemplo intentando predecir si los valores que se obtendrán por una rama pueden ser enteros o serán decimales). Sin embargo esto no creo que sea suficiente. \n",
        "\n",
        "Ya que hay muchas cadenas que obtienen el mismo valor con variaciones diferentes de caracteres, puede que una búsqueda heurística sea interesante de plantear. Así, podríamos seguir descartando ramas del árbol si preveemos que no obtendremos valores muy distintos por ese camino. Por otro lado eso ya supondría la posibilidad de no obtener todos los valores enteros posibles, además de que el heurístico es difícil de definir en rangos de valores muy grandes.\n",
        "\n",
        "También se podría plantear el uso de algoritmos genéticos para resolver el problema. Para ello podríamos definir soluciones candidatas donde N genes pertenezcan a las N cifras seleccionadas y M genes a las M operaciones. Para cada solución podemos obtener el número de valores enteros que podemos calcular y quedarnos con los individuos que en conjunto obtengan un mayor número de valores enteros descubiertos o de discrepancias con el conjunto esperado si contamos con él. "
      ]
    }
  ]
}