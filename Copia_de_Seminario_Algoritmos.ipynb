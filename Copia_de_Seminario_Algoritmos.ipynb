{
  "nbformat": 4,
  "nbformat_minor": 0,
  "metadata": {
    "colab": {
      "provenance": [],
      "include_colab_link": true
    },
    "kernelspec": {
      "name": "python3",
      "display_name": "Python 3"
    }
  },
  "cells": [
    {
      "cell_type": "markdown",
      "metadata": {
        "id": "view-in-github",
        "colab_type": "text"
      },
      "source": [
        "<a href=\"https://colab.research.google.com/github/PabloGorSan/AlgortimosDeOptimizacion/blob/main/Copia_de_Seminario_Algoritmos.ipynb\" target=\"_parent\"><img src=\"https://colab.research.google.com/assets/colab-badge.svg\" alt=\"Open In Colab\"/></a>"
      ]
    },
    {
      "cell_type": "markdown",
      "metadata": {
        "id": "hVbXYX-RfPWh"
      },
      "source": [
        "# Algoritmos de optimización - Seminario<br>\n",
        "Nombre y Apellidos: Pablo Gordillo Sánchez   <br>\n",
        "Url: https://github.com/PabloGorSan/AlgortimosDeOptimizacion/blob/main/Copia_de_Seminario_Algoritmos.ipynb<br>\n",
        "Problema:\n",
        "\n",
        "Combinar cifras y operaciones\n",
        "\n",
        "Descripción del problema:(copiar enunciado)\n",
        "\n",
        "- El problema consiste en analizar el siguiente problema y diseñar un algoritmo que lo resuelva.\n",
        "- Disponemos de las 9 cifras del 1 al 9 (excluimos el cero) y de los 4 signos básicos de las\n",
        "operaciones fundamentales: suma(+), resta(-), multiplicación(*) y división(/)\n",
        "- Debemos combinarlos alternativamente sin repetir ninguno de ellos para obtener una cantidad\n",
        "dada. Un ejemplo sería para obtener el 4:\n",
        "4+2-6/3*1 = 4\n",
        "- Debe analizarse el problema para encontrar todos los valores enteros posibles planteando las siguientes cuestiones:\n",
        " - ¿Qué valor máximo y mínimo se pueden obtener según las condiciones del problema?\n",
        " - ¿Es posible encontrar todos los valores enteros posibles entre dicho mínimo y máximo?\n",
        "                                        "
      ]
    },
    {
      "cell_type": "code",
      "metadata": {
        "id": "AiskKkzZfy4e"
      },
      "source": [
        "import bisect"
      ],
      "execution_count": 79,
      "outputs": []
    },
    {
      "cell_type": "markdown",
      "metadata": {
        "id": "3_-exlrTgLd-"
      },
      "source": [
        "(*)¿Cuantas posibilidades hay sin tener en cuenta las restricciones?<br>\n",
        "\n",
        "\n",
        "\n",
        "\n",
        "\n"
      ]
    },
    {
      "cell_type": "markdown",
      "metadata": {
        "id": "WfCUqJyKhPcw"
      },
      "source": [
        "Para este problema debemos definir previamente qué significa que no tenga restricciones, ya que podemos entenderlo de distinta manera y obtener una cantidad de posibilidades diversas. Las restricciones que plantea el problema son:\n",
        "- Debemos combinar números y operaciones alternativamente\n",
        "- Sin repetir ninguno de ellos.\n",
        "\n",
        "Empezando por la segunda restricción, si esta no se cumpliera, el espacio de búsqueda para este problema sería infinito, ya que podríamos siempre seguir creando nuevas posibilidades añadiendo una nueva cifra o una nueva operación según corresponda. Por tanto, no vamos a tomarlo tanto como una restricción sino como una característica de nuestro problema (igual que utilizar las cifras y las operaciones básicas).\n",
        "\n",
        "La primera restricción es más interesante. Anular esta restricción nos sigue limitando el espacio de búsqueda, aunque añade combinaciones no validas (como 2*/3). Teniendo en cuenta las no validas, las posibilidades totales serían igual a 13!, ya que sería una permutación sin repetición de 13 signos (9 dígitos y 4 operaciones). El siguiente código obtiene cuantas de estas combinaciones son validas."
      ]
    },
    {
      "cell_type": "code",
      "metadata": {
        "id": "iq6Fe32MgpDX"
      },
      "source": [],
      "execution_count": null,
      "outputs": []
    },
    {
      "cell_type": "markdown",
      "source": [
        "\n",
        "¿Cuantas posibilidades hay teniendo en cuenta todas las restricciones?\n",
        "\n",
        "Al igual que hemos deducido el número de posibilidades en el apartado anterior, podemos aplicar el mismo razonamiento para obtener el total de posibilidades teniendo en cuenta las restricciones.\n",
        "En un comienzo debemos elegir una de entre 9 cifras para probar, luego una entre 4 operaciones, una entre 8 cifras, una entre 3 operaciones... hasta quedarnos sin operaciones, por lo que ya solo podremos añadir una cifra más. Por tanto el número de posibilidades es 9 * 4 * 8 * 3 * 7 * 6 * 2 * 5 * 1 = 9! = 362880."
      ],
      "metadata": {
        "id": "_Pb0l7I3K4ni"
      }
    },
    {
      "cell_type": "markdown",
      "metadata": {
        "id": "dzynfVJahHoY"
      },
      "source": [
        "Modelo para el espacio de soluciones<br>\n",
        "(*) ¿Cual es la estructura de datos que mejor se adapta al problema? Argumentalo.(Es posible que hayas elegido una al principio y veas la necesidad de cambiar, arguentalo)\n"
      ]
    },
    {
      "cell_type": "markdown",
      "metadata": {
        "id": "xFIJrOwKi2Ti"
      },
      "source": [
        "Respuesta"
      ]
    },
    {
      "cell_type": "code",
      "metadata": {
        "id": "38c-7-ejhJmA"
      },
      "source": [],
      "execution_count": null,
      "outputs": []
    },
    {
      "cell_type": "markdown",
      "metadata": {
        "id": "7Z9U2W7bi-XS"
      },
      "source": [
        "Según el modelo para el espacio de soluciones<br>\n",
        "(*)¿Cual es la función objetivo?\n",
        "\n",
        "(*)¿Es un problema de maximización o minimización?"
      ]
    },
    {
      "cell_type": "markdown",
      "metadata": {
        "id": "hBalWLM7j1_d"
      },
      "source": [
        "Respuesta"
      ]
    },
    {
      "cell_type": "code",
      "metadata": {
        "id": "pDA-rg3Gj5Lz"
      },
      "source": [],
      "execution_count": null,
      "outputs": []
    },
    {
      "cell_type": "markdown",
      "metadata": {
        "id": "rlnTYgY1j6I2"
      },
      "source": [
        "Diseña un algoritmo para resolver el problema por fuerza bruta"
      ]
    },
    {
      "cell_type": "markdown",
      "metadata": {
        "id": "70rDgxYXkC8r"
      },
      "source": [
        "Respuesta"
      ]
    },
    {
      "cell_type": "code",
      "metadata": {
        "id": "CJb5sQ0qkENy"
      },
      "source": [
        "cifras = [str(x) for x in range(1, 10)]\n",
        "operaciones = ['+', '-', '*', '/']\n",
        "\n",
        "valores = {\n",
        "    'posibilidades' : 0,\n",
        "    'max' : -9999999,\n",
        "    'min' : 9999999,\n",
        "    'valores enteros' : [],\n",
        "    'valores intermedios' : True\n",
        "}\n",
        "\n",
        "def fuerzaBrutaRestricciones(cifras, operaciones, cadena, valores):\n",
        "\n",
        "  calcularValoresEnteros(cifras, operaciones, \"\", valores)\n",
        "  return encontrarValoresIntermedios(valores)\n",
        "\n",
        "def calcularValoresEnteros(cifras, operaciones, cadena, valores):\n",
        "  for c in cifras:\n",
        "    if len(operaciones) == 0:\n",
        "      valor = eval(cadena + c)\n",
        "      valores['posibilidades'] += 1\n",
        "      if valor.is_integer():\n",
        "        if valor not in valores['valores enteros']:\n",
        "          bisect.insort(valores['valores enteros'], valor)\n",
        "        if valor > valores['max'] : valores['max'] = valor\n",
        "        if valor < valores['min'] : valores['min'] = valor\n",
        "    else:  \n",
        "      for o in operaciones:\n",
        "        cifrasMenos1 = cifras.copy()\n",
        "        cifrasMenos1.remove(c)\n",
        "        operacionesMenos1 = operaciones.copy()\n",
        "        operacionesMenos1.remove(o)\n",
        "        calcularValoresEnteros(cifrasMenos1, operacionesMenos1, cadena + c + o, valores)\n",
        "\n",
        "def encontrarValoresIntermedios(valores):\n",
        "    i = 0\n",
        "    while i < len(valores['valores enteros'])-1 and valores['valores intermedios']:\n",
        "      if abs(valores['valores enteros'][i] - valores['valores enteros'][i]+1) != 1: valores['valores intermedios'] = False\n",
        "      else: i += 1\n",
        "\n",
        "    return valores\n",
        "\n",
        "valores = fuerzaBrutaRestricciones(cifras, operaciones, \"\", valores)"
      ],
      "execution_count": 80,
      "outputs": []
    },
    {
      "cell_type": "code",
      "source": [
        "for v in valores.keys():\n",
        "  print(v + \" \" + str(valores[v]));"
      ],
      "metadata": {
        "colab": {
          "base_uri": "https://localhost:8080/"
        },
        "id": "zKIeP7IjZVoA",
        "outputId": "7bdef6ea-7fe0-45a2-e8cb-9c106774ff0a"
      },
      "execution_count": 81,
      "outputs": [
        {
          "output_type": "stream",
          "name": "stdout",
          "text": [
            "posibilidades 362880\n",
            "max 77.0\n",
            "min -69.0\n",
            "valores enteros [-69.0, -68.0, -67.0, -66.0, -65.0, -64.0, -63.0, -62.0, -61.0, -60.0, -59.0, -58.0, -57.0, -56.0, -55.0, -54.0, -53.0, -52.0, -51.0, -50.0, -49.0, -48.0, -47.0, -46.0, -45.0, -44.0, -43.0, -42.0, -41.0, -40.0, -39.0, -38.0, -37.0, -36.0, -35.0, -34.0, -33.0, -32.0, -31.0, -30.0, -29.0, -28.0, -27.0, -26.0, -25.0, -24.0, -23.0, -22.0, -21.0, -20.0, -19.0, -18.0, -17.0, -16.0, -15.0, -14.0, -13.0, -12.0, -11.0, -10.0, -9.0, -8.0, -7.0, -6.0, -5.0, -4.0, -3.0, -2.0, -1.0, 0.0, 1.0, 2.0, 3.0, 4.0, 5.0, 6.0, 7.0, 8.0, 9.0, 10.0, 11.0, 12.0, 13.0, 14.0, 15.0, 16.0, 17.0, 18.0, 19.0, 20.0, 21.0, 22.0, 23.0, 24.0, 25.0, 26.0, 27.0, 28.0, 29.0, 30.0, 31.0, 32.0, 33.0, 34.0, 35.0, 36.0, 37.0, 38.0, 39.0, 40.0, 41.0, 42.0, 43.0, 44.0, 45.0, 46.0, 47.0, 48.0, 49.0, 50.0, 51.0, 52.0, 53.0, 54.0, 55.0, 56.0, 57.0, 58.0, 59.0, 60.0, 61.0, 62.0, 63.0, 64.0, 65.0, 66.0, 67.0, 68.0, 69.0, 70.0, 71.0, 72.0, 73.0, 74.0, 75.0, 76.0, 77.0]\n",
            "valores intermedios True\n"
          ]
        }
      ]
    },
    {
      "cell_type": "markdown",
      "metadata": {
        "id": "tgrnsC2nkFa8"
      },
      "source": [
        "Calcula la complejidad del algoritmo por fuerza bruta"
      ]
    },
    {
      "cell_type": "markdown",
      "metadata": {
        "id": "9eUd3xwckP68"
      },
      "source": [
        "En este algoritmo vamos a considerar como operación unitaria la evaluación de una cadena, es decir, los nodos hoja que se han explorado en el árbol que forman las variaciones de estos elementos. Ya que se trata de un algoritmo iterativo y recursivo, podemos calcular la complejidad de la siguiente forma:\n",
        "\n",
        "Siendo C el tamaño de la lista de cifras y siendo O el tamaño de la lista de operaciones, con C > O el número de operaciones realizadas sería:\n",
        "\n",
        "- C , O = 0\n",
        "- C * O * T((C-1), (O-1)) * ... * T((C-O), 0) , O > 0\n",
        "\n",
        "Por tanto, podemos simplificar esta operación como:\n",
        "\n",
        "- C * O * (C-1) * (O-1) * ... * C = (C! * O!) / (C-O-1)!\n",
        "\n",
        "En el peor caso, donde C = O + 1 ya que siempre debe haber un digito almenos más que operaciones, la complejidad sería O(C!*(C-1)!). Es decir, tiene complejidad factorial, por lo que no es un algoritmo viable para su uso con valores altos."
      ]
    },
    {
      "cell_type": "markdown",
      "metadata": {
        "id": "txbrmLmskReM"
      },
      "source": [
        "(*)Diseña un algoritmo que mejore la complejidad del algortimo por fuerza bruta. Argumenta porque crees que mejora el algoritmo por fuerza bruta"
      ]
    },
    {
      "cell_type": "markdown",
      "metadata": {
        "id": "hLrVwt5QkZPD"
      },
      "source": [
        "Respuesta"
      ]
    },
    {
      "cell_type": "code",
      "metadata": {
        "id": "m1eyM21Vkabg"
      },
      "source": [],
      "execution_count": null,
      "outputs": []
    },
    {
      "cell_type": "markdown",
      "metadata": {
        "id": "eGDB4K6uk1iN"
      },
      "source": [
        "(*)Calcula la complejidad del algoritmo "
      ]
    },
    {
      "cell_type": "markdown",
      "metadata": {
        "id": "NhpTh_BPk1ms"
      },
      "source": [
        "Respuesta"
      ]
    },
    {
      "cell_type": "code",
      "metadata": {
        "id": "nREzhkStlCq8"
      },
      "source": [],
      "execution_count": null,
      "outputs": []
    },
    {
      "cell_type": "markdown",
      "metadata": {
        "id": "3M6QjTsSkmYe"
      },
      "source": [
        "Según el problema (y tenga sentido), diseña un juego de datos de entrada aleatorios"
      ]
    },
    {
      "cell_type": "markdown",
      "metadata": {
        "id": "Jc3_OlyNkvjZ"
      },
      "source": [
        "Respuesta"
      ]
    },
    {
      "cell_type": "code",
      "metadata": {
        "id": "sJ-N2etjkyWc"
      },
      "source": [],
      "execution_count": null,
      "outputs": []
    },
    {
      "cell_type": "markdown",
      "metadata": {
        "id": "zy5ZROmjlGo1"
      },
      "source": [
        "Aplica el algoritmo al juego de datos generado"
      ]
    },
    {
      "cell_type": "markdown",
      "metadata": {
        "id": "_Cmj-PVylMsa"
      },
      "source": [
        "Respuesta"
      ]
    },
    {
      "cell_type": "code",
      "metadata": {
        "id": "Jkx8GeiYlUz1"
      },
      "source": [],
      "execution_count": null,
      "outputs": []
    },
    {
      "cell_type": "markdown",
      "metadata": {
        "id": "eTFWUJQrtGcv"
      },
      "source": [
        "Enumera las referencias que has utilizado(si ha sido necesario) para llevar a cabo el trabajo"
      ]
    },
    {
      "cell_type": "markdown",
      "metadata": {
        "id": "YKQ_mRBttWsP"
      },
      "source": [
        "Respuesta"
      ]
    },
    {
      "cell_type": "markdown",
      "metadata": {
        "id": "kAkDPUyRtYyH"
      },
      "source": [
        "Describe brevemente las lineas de como crees que es posible avanzar en el estudio del problema. Ten en cuenta incluso posibles variaciones del problema y/o variaciones al alza del tamaño"
      ]
    },
    {
      "cell_type": "markdown",
      "metadata": {
        "id": "IE0uZmo-tZu-"
      },
      "source": [
        "Respuesta"
      ]
    }
  ]
}